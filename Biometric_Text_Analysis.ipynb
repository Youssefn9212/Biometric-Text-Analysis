{
  "nbformat": 4,
  "nbformat_minor": 0,
  "metadata": {
    "colab": {
      "provenance": [],
      "toc_visible": true
    },
    "kernelspec": {
      "name": "python3",
      "display_name": "Python 3"
    },
    "language_info": {
      "name": "python"
    }
  },
  "cells": [
    {
      "cell_type": "markdown",
      "source": [
        "#Biometric Text Analysis on Twitter Dataset using Apache Spark and H2O Machine Learning Framework"
      ],
      "metadata": {
        "id": "WcQLCCjTrp0e"
      }
    },
    {
      "cell_type": "markdown",
      "source": [
        "- Youssef Nakhla\n",
        "- Zeina Kishk\n",
        "- Jana Al Morsy\n",
        "- Hanya Zamir"
      ],
      "metadata": {
        "id": "IggvBH8hvEhW"
      }
    },
    {
      "cell_type": "markdown",
      "source": [
        "##Dependencies"
      ],
      "metadata": {
        "id": "W8-S6LeSrk_n"
      }
    },
    {
      "cell_type": "code",
      "source": [
        "!pip install -f http://h2o-release.s3.amazonaws.com/h2o/latest_stable_Py.html h2o"
      ],
      "metadata": {
        "id": "EdqB1t6Qr5YY"
      },
      "execution_count": null,
      "outputs": []
    },
    {
      "cell_type": "code",
      "source": [
        "!pip install pyspark"
      ],
      "metadata": {
        "id": "2YQHauWFtLs8"
      },
      "execution_count": null,
      "outputs": []
    },
    {
      "cell_type": "code",
      "source": [
        "# Install required packages\n",
        "!pip install -q nltk spacy emoji\n",
        "!python -m nltk.downloader punkt stopwords\n",
        "!python -m spacy download en_core_web_sm"
      ],
      "metadata": {
        "id": "52hpTClEsBvG"
      },
      "execution_count": null,
      "outputs": []
    },
    {
      "cell_type": "code",
      "source": [
        "!pip install scikit-learn"
      ],
      "metadata": {
        "id": "OpjonhZTsDTS"
      },
      "execution_count": null,
      "outputs": []
    },
    {
      "cell_type": "code",
      "source": [
        "# === Core Python Libraries ===\n",
        "import os\n",
        "import re\n",
        "import string\n",
        "import numpy as np\n",
        "import pandas as pd\n",
        "import matplotlib.pyplot as plt\n",
        "import seaborn as sns\n",
        "from collections import Counter\n",
        "\n",
        "# === NLP & Text Processing ===\n",
        "import nltk\n",
        "import spacy\n",
        "import emoji\n",
        "from nltk.corpus import stopwords\n",
        "\n",
        "# === PySpark ===\n",
        "from pyspark.sql.functions import col, udf\n",
        "from pyspark.sql.types import FloatType, IntegerType, MapType, StringType\n",
        "from pyspark.ml.feature import Tokenizer, StopWordsRemover, HashingTF, IDF\n",
        "from pyspark.ml.functions import vector_to_array\n",
        "\n",
        "# === Imbalanced Data Handling ===\n",
        "from imblearn.under_sampling import RandomUnderSampler\n",
        "from imblearn.over_sampling import SMOTE\n",
        "\n",
        "# === Scikit-learn ===\n",
        "from sklearn.model_selection import train_test_split\n",
        "from sklearn.metrics import confusion_matrix, classification_report\n",
        "\n",
        "# === H2O.ai ===\n",
        "import h2o\n",
        "from h2o.grid.grid_search import H2OGridSearch\n",
        "from h2o.estimators import (\n",
        "    H2OXGBoostEstimator,\n",
        "    H2ORandomForestEstimator,\n",
        "    H2OKMeansEstimator,\n",
        "    H2OGeneralizedLinearEstimator,\n",
        "    H2ODeepLearningEstimator\n",
        ")\n"
      ],
      "metadata": {
        "id": "inFYGSKhr7Ga"
      },
      "execution_count": null,
      "outputs": []
    },
    {
      "cell_type": "markdown",
      "source": [
        "##Loading Data"
      ],
      "metadata": {
        "id": "XfcTyyVneZsY"
      }
    },
    {
      "cell_type": "code",
      "execution_count": null,
      "metadata": {
        "colab": {
          "base_uri": "https://localhost:8080/"
        },
        "id": "X1zppL9VyiT5",
        "outputId": "bc37812a-6818-467d-b9dd-2596e3295a94"
      },
      "outputs": [
        {
          "output_type": "stream",
          "name": "stdout",
          "text": [
            "Mounted at /content/drive\n"
          ]
        }
      ],
      "source": [
        "# Mount Google Drive\n",
        "from google.colab import drive\n",
        "drive.mount('/content/drive')"
      ]
    },
    {
      "cell_type": "code",
      "source": [
        "import kagglehub\n",
        "\n",
        "# Download latest version\n",
        "path = kagglehub.dataset_download(\"kazanova/sentiment140\")\n",
        "\n",
        "print(\"Path to dataset files:\", path)\n",
        "\n",
        "file_path = os.path.join(path, \"training.1600000.processed.noemoticon.csv\")"
      ],
      "metadata": {
        "id": "GD6Vi1y8sQW8"
      },
      "execution_count": null,
      "outputs": []
    },
    {
      "cell_type": "code",
      "source": [
        "import pandas as pd\n",
        "\n",
        "file_path = \"/home/datasciencef24-yc/Downloads/training.1600000.processed.noemoticon.csv\"\n",
        "df = pd.read_csv(file_path, encoding=\"latin-1\", header=None)\n"
      ],
      "metadata": {
        "id": "qM-NzO-0sQzg"
      },
      "execution_count": null,
      "outputs": []
    },
    {
      "cell_type": "markdown",
      "source": [
        "##Data Preprocessing"
      ],
      "metadata": {
        "id": "GXyxMuZ4sTK8"
      }
    },
    {
      "cell_type": "markdown",
      "source": [
        "Dropping columns and renaming the 'target' variable"
      ],
      "metadata": {
        "id": "sBFGYQggslFg"
      }
    },
    {
      "cell_type": "code",
      "source": [
        "df.columns = [\"sentiment\", \"ids\", \"date\", \"flag\", \"user\", \"text\"]\n",
        "df.drop([\"date\",\"flag\", \"ids\"], axis=1, inplace=True)\n",
        "\n",
        "df.head()"
      ],
      "metadata": {
        "id": "Jd6VewPnsSCm"
      },
      "execution_count": null,
      "outputs": []
    },
    {
      "cell_type": "markdown",
      "source": [
        "Filtering out users with more than 5 tweets"
      ],
      "metadata": {
        "id": "5TPtJpgBskrW"
      }
    },
    {
      "cell_type": "code",
      "source": [
        "# 1. Count tweets per user\n",
        "tweet_counts = df['user'].value_counts()\n",
        "\n",
        "# 2. Identify users with more than 1 tweet\n",
        "users_with_multiple_tweets = tweet_counts[tweet_counts > 5].index\n",
        "\n",
        "# 3. Filter original DataFrame to keep only those users\n",
        "df_filtered = df[df['user'].isin(users_with_multiple_tweets)]\n",
        "\n",
        "# 4. Optional: Reset index\n",
        "df_filtered = df_filtered.reset_index(drop=True)\n",
        "\n",
        "# 5. Preview result\n",
        "print(f\"Original dataset shape: {df.shape}\")\n",
        "print(f\"Filtered dataset shape: {df_filtered.shape}\")\n",
        "\n",
        "df=df_filtered\n"
      ],
      "metadata": {
        "id": "d95ZhPkxseST"
      },
      "execution_count": null,
      "outputs": []
    },
    {
      "cell_type": "markdown",
      "source": [
        "Bot Detection"
      ],
      "metadata": {
        "id": "0_f2lyPpsr6e"
      }
    },
    {
      "cell_type": "code",
      "source": [
        "import re\n",
        "\n",
        "# 1. Function to clean tweet text\n",
        "def normalize_text(text):\n",
        "    text = re.sub(r'@\\w+', '@user', text)  # Replace mentions\n",
        "    text = re.sub(r'http\\S+', '', text)   # Remove URLs\n",
        "    text = re.sub(r'\\s+', ' ', text)      # Normalize whitespace\n",
        "    return text.strip().lower()\n",
        "\n",
        "# 2. Apply to your DataFrame\n",
        "df['normalized_text'] = df['text'].apply(normalize_text)\n",
        "\n",
        "# 3. Group by user and normalized text\n",
        "text_counts = df.groupby(['user', 'normalized_text']).size().reset_index(name='count')\n",
        "\n",
        "# 4. Filter for repeated texts per user\n",
        "repeated_texts = text_counts[text_counts['count'] > 1]\n",
        "\n",
        "# 5. Count how many users have repeated texts\n",
        "repeating_users = repeated_texts['user'].value_counts()\n",
        "\n",
        "print(f\"Users posting repeated base tweets: {len(repeating_users)}\")\n",
        "\n",
        "# 6. Optionally: flag them\n",
        "bot_suspects = set(repeating_users.index)\n",
        "df['is_suspected_bot'] = df['user'].isin(bot_suspects)\n"
      ],
      "metadata": {
        "id": "I2qpJ5HusuPu"
      },
      "execution_count": null,
      "outputs": []
    },
    {
      "cell_type": "code",
      "source": [
        "# 1. Drop rows where user is in the bot_suspects set\n",
        "df_cleaned = df[~df['user'].isin(bot_suspects)]\n",
        "\n",
        "# 2. Optional: Reset index\n",
        "df_cleaned = df_cleaned.reset_index(drop=True)\n",
        "\n",
        "# 3. Preview the result\n",
        "print(f\"Original number of tweets: {df.shape[0]}\")\n",
        "print(f\"Remaining tweets after dropping suspected bots: {df_cleaned.shape[0]}\")\n",
        "\n",
        "df=df_cleaned\n",
        "df.drop('normalized_text', axis=1, inplace=True)\n",
        "df.drop('is_suspected_bot', axis=1, inplace=True)\n",
        "df.head()\n"
      ],
      "metadata": {
        "id": "USFmXkJhsv7i"
      },
      "execution_count": null,
      "outputs": []
    },
    {
      "cell_type": "markdown",
      "source": [
        "Cleaning text"
      ],
      "metadata": {
        "id": "NhNKw64_s8nT"
      }
    },
    {
      "cell_type": "code",
      "source": [
        "import re\n",
        "def remove_mentions(text):\n",
        "    \"\"\"Remove @mentions from the text.\"\"\"\n",
        "    return re.sub(r'@\\w+', '', text)\n",
        "\n",
        "def remove_urls(text):\n",
        "    \"\"\"Remove http/https URLs from the text.\"\"\"\n",
        "    return re.sub(r'http\\S+|www\\S+', '', text)\n",
        "\n",
        "def remove_extra_whitespace(text):\n",
        "    \"\"\"Remove leading/trailing/multiple spaces.\"\"\"\n",
        "    return re.sub(r'\\s+', ' ', text).strip()\n",
        "\n",
        "# def to_lowercase(text):\n",
        "#     \"\"\"Convert text to lowercase.\"\"\"\n",
        "#     return text.lower()\n",
        "\n",
        "def remove_non_ascii(text):\n",
        "    \"\"\"Remove non-ASCII characters (optional).\"\"\"\n",
        "    return text.encode('ascii', errors='ignore').decode()\n",
        "\n",
        "def preprocess_text(text):\n",
        "    \"\"\"Apply all preprocessing steps.\"\"\"\n",
        "    text = remove_mentions(text)\n",
        "    text = remove_urls(text)\n",
        "    text = remove_extra_whitespace(text)\n",
        "    # text = to_lowercase(text)\n",
        "    # Uncomment the next line only if needed\n",
        "    # text = remove_non_ascii(text)\n",
        "    return text\n"
      ],
      "metadata": {
        "id": "W5A8GPmis0av"
      },
      "execution_count": null,
      "outputs": []
    },
    {
      "cell_type": "code",
      "source": [
        "# Apply the preprocessing function to each row in the 'text' column\n",
        "df['clean_text'] = df['text'].apply(preprocess_text)\n",
        "\n",
        "# Preview the result\n",
        "df[['text', 'clean_text']].head()"
      ],
      "metadata": {
        "id": "Aqc9kfB4tDfI"
      },
      "execution_count": null,
      "outputs": []
    },
    {
      "cell_type": "markdown",
      "source": [
        "##Feature Extraction (Spark)"
      ],
      "metadata": {
        "id": "I18KobGctGY6"
      }
    },
    {
      "cell_type": "code",
      "source": [
        "from pyspark.sql import SparkSession\n",
        "spark = SparkSession.builder.appName(\"SparklingWaterApp\").getOrCreate()"
      ],
      "metadata": {
        "id": "W8Us6ppHtH8g"
      },
      "execution_count": null,
      "outputs": []
    },
    {
      "cell_type": "code",
      "source": [
        "from pysparkling import *\n",
        "sc = spark.sparkContext"
      ],
      "metadata": {
        "id": "xWoMV5PLtOuj"
      },
      "execution_count": null,
      "outputs": []
    },
    {
      "cell_type": "code",
      "source": [
        "# Start Spark session if not already started\n",
        "from pyspark.sql import SparkSession\n",
        "spark = SparkSession.builder.appName(\"TextFeatureExtraction\").getOrCreate()"
      ],
      "metadata": {
        "id": "qqrModJDtPv0"
      },
      "execution_count": null,
      "outputs": []
    },
    {
      "cell_type": "code",
      "source": [
        "# Convert pandas DataFrame to Spark DataFrame\n",
        "df_spark = spark.createDataFrame(df)"
      ],
      "metadata": {
        "id": "yiWM7XXRtQy4"
      },
      "execution_count": null,
      "outputs": []
    },
    {
      "cell_type": "code",
      "source": [
        "sc"
      ],
      "metadata": {
        "id": "hMksofFFtR9D"
      },
      "execution_count": null,
      "outputs": []
    },
    {
      "cell_type": "code",
      "source": [
        "# Load required NLP resources\n",
        "nltk.download('stopwords')\n",
        "stop_words = set(nltk.corpus.stopwords.words('english'))\n",
        "\n",
        "nlp = spacy.load('en_core_web_sm')\n",
        "\n",
        "# Define slang words set\n",
        "slang_words = {\n",
        "    'lol', 'brb', 'idk', 'lmao', 'omg', 'smh', 'tbh', 'fyi', 'btw', 'imo',\n",
        "    'thx', 'pls', 'plz', 'rofl', 'yolo', 'jk', 'np', 'afaik', 'nvm', 'ikr'\n",
        "}\n",
        "\n",
        "# Lexical Features\n",
        "@udf(FloatType())\n",
        "def avg_word_length(text):\n",
        "    words = text.split()\n",
        "    return float(np.mean([len(word) for word in words])) if words else 0.0\n",
        "\n",
        "@udf(FloatType())\n",
        "def type_token_ratio(text):\n",
        "    words = text.split()\n",
        "    return float(len(set(words)) / len(words)) if words else 0.0\n",
        "\n",
        "@udf(FloatType())\n",
        "def capital_word_ratio(text):\n",
        "    words = text.split()\n",
        "    return float(sum(1 for w in words if w.isupper()) / len(words)) if words else 0.0\n",
        "\n",
        "# Structural Features\n",
        "@udf(IntegerType())\n",
        "def char_count(text): return len(text)\n",
        "\n",
        "@udf(IntegerType())\n",
        "def word_count(text): return len(text.split())\n",
        "\n",
        "@udf(FloatType())\n",
        "def avg_sentence_length(text):\n",
        "    sentences = re.split(r'[.!?]', text)\n",
        "    sentences = [s.strip() for s in sentences if s.strip()]\n",
        "    return float(np.mean([len(s.split()) for s in sentences])) if sentences else 0.0\n",
        "\n",
        "@udf(FloatType())\n",
        "def capitalization_ratio(text):\n",
        "    return float(sum(1 for c in text if c.isupper()) / len(text)) if text else 0.0\n",
        "\n",
        "@udf(IntegerType())\n",
        "def sentence_count(text):\n",
        "    return len([s for s in re.split(r'[.!?]', text) if s.strip()])\n",
        "\n",
        "# Style Features\n",
        "@udf(FloatType())\n",
        "def stopword_ratio(text):\n",
        "    words = text.split()\n",
        "    return float(sum(1 for w in words if w.lower() in stop_words) / len(words)) if words else 0.0\n",
        "\n",
        "@udf(IntegerType())\n",
        "def emoji_count(text): return sum(1 for c in text if c in emoji.EMOJI_DATA)\n",
        "\n",
        "@udf(IntegerType())\n",
        "def hashtag_count(text): return text.count('#')\n",
        "\n",
        "@udf(IntegerType())\n",
        "def repeated_char_count(text): return len(re.findall(r'(.)\\1{2,}', text))\n",
        "\n",
        "@udf(IntegerType())\n",
        "def slang_count(text):\n",
        "    words = text.lower().split()\n",
        "    return sum(1 for w in words if w in slang_words)\n",
        "\n",
        "@udf(IntegerType())\n",
        "def quote_symbol_count(text): return text.count('\"') + text.count(\"'\")\n",
        "\n",
        "@udf(IntegerType())\n",
        "def symbol_count(text): return sum(1 for c in text if c in {'$', '%', '~', '*', '&', '@'})\n",
        "\n",
        "@udf(IntegerType())\n",
        "def multiple_punctuation_count(text): return len(re.findall(r'(!{2,}|\\?{2,}|\\.{2,})', text))\n",
        "\n",
        "# Syntactic Features via SpaCy (POS tagging & punctuation)\n",
        "@udf(MapType(StringType(), FloatType()))\n",
        "def pos_tag_distribution(text):\n",
        "    try:\n",
        "        doc = nlp(text)\n",
        "        pos_counts = Counter([token.pos_ for token in doc])\n",
        "        total = sum(pos_counts.values())\n",
        "        return {\n",
        "            f'pos_{tag.lower()}': float(pos_counts.get(tag, 0) / total) if total > 0 else 0.0\n",
        "            for tag in ['NOUN', 'VERB', 'ADJ', 'ADV', 'PRON']\n",
        "        }\n",
        "    except:\n",
        "        return {}\n",
        "\n",
        "@udf(MapType(StringType(), FloatType()))\n",
        "def punctuation_usage(text):\n",
        "    try:\n",
        "        return {\n",
        "            f'punct_{p}': float(text.count(p) / len(text)) if len(text) > 0 else 0.0\n",
        "            for p in punctuation_marks\n",
        "        }\n",
        "    except:\n",
        "        return {}\n",
        "\n",
        "df_features = df_spark \\\n",
        "    .withColumn(\"avg_word_len\", avg_word_length(col(\"text\"))) \\\n",
        "    .withColumn(\"type_token_ratio\", type_token_ratio(col(\"text\"))) \\\n",
        "    .withColumn(\"capital_word_ratio\", capital_word_ratio(col(\"text\"))) \\\n",
        "    .withColumn(\"char_count\", char_count(col(\"text\"))) \\\n",
        "    .withColumn(\"word_count\", word_count(col(\"text\"))) \\\n",
        "    .withColumn(\"avg_sentence_len\", avg_sentence_length(col(\"text\"))) \\\n",
        "    .withColumn(\"capitalization_ratio\", capitalization_ratio(col(\"text\"))) \\\n",
        "    .withColumn(\"sentence_count\", sentence_count(col(\"text\"))) \\\n",
        "    .withColumn(\"stopword_ratio\", stopword_ratio(col(\"text\"))) \\\n",
        "    .withColumn(\"emoji_count\", emoji_count(col(\"text\"))) \\\n",
        "    .withColumn(\"hashtag_count\", hashtag_count(col(\"text\"))) \\\n",
        "    .withColumn(\"repeated_char_count\", repeated_char_count(col(\"text\"))) \\\n",
        "    .withColumn(\"slang_count\", slang_count(col(\"text\"))) \\\n",
        "    .withColumn(\"quote_symbol_count\", quote_symbol_count(col(\"text\"))) \\\n",
        "    .withColumn(\"symbol_count\", symbol_count(col(\"text\"))) \\\n",
        "    .withColumn(\"multiple_punct_count\", multiple_punctuation_count(col(\"text\"))) \\\n",
        "    .withColumn(\"pos_distribution\", pos_tag_distribution(col(\"text\"))) \\\n",
        "    .withColumn(\"punctuation_usage\", punctuation_usage(col(\"text\")))\n"
      ],
      "metadata": {
        "id": "LMUXxr31taqw"
      },
      "execution_count": null,
      "outputs": []
    },
    {
      "cell_type": "code",
      "source": [
        "# 1. Tokenize text\n",
        "tokenizer = Tokenizer(inputCol=\"text\", outputCol=\"words\")\n",
        "df_tokenized = tokenizer.transform(df_features)\n",
        "\n",
        "# 2. Remove stopwords\n",
        "remover = StopWordsRemover(inputCol=\"words\", outputCol=\"filtered_words\")\n",
        "df_filtered = remover.transform(df_tokenized)\n",
        "\n",
        "# 3. Generate TF features\n",
        "hashing_tf = HashingTF(inputCol=\"filtered_words\", outputCol=\"raw_features\", numFeatures=300)\n",
        "df_tf = hashing_tf.transform(df_filtered)\n",
        "\n",
        "# 4. Fit IDF model and transform\n",
        "idf = IDF(inputCol=\"raw_features\", outputCol=\"tfidf_features\")\n",
        "idf_model = idf.fit(df_tf)\n",
        "df_final = idf_model.transform(df_tf)\n",
        "\n",
        "# 5. Convert sparse TF-IDF vector to array\n",
        "df_with_array = df_final.withColumn(\"tfidf_array\", vector_to_array(\"tfidf_features\"))\n",
        "\n",
        "# 6. Generate individual TF-IDF column names\n",
        "tfidf_col_names = [f\"tfidf_{i}\" for i in range(300)]\n",
        "\n",
        "# 7. Split TF-IDF array into individual columns\n",
        "for i, name in enumerate(tfidf_col_names):\n",
        "    df_with_array = df_with_array.withColumn(name, col(\"tfidf_array\")[i])\n",
        "\n",
        "# 8. Drop intermediate vector/array columns\n",
        "df_flat = df_with_array.drop(\"raw_features\", \"tfidf_features\", \"tfidf_array\", \"words\", \"filtered_words\")\n",
        "\n"
      ],
      "metadata": {
        "id": "XWoQlgDNtbTx"
      },
      "execution_count": null,
      "outputs": []
    },
    {
      "cell_type": "code",
      "source": [
        "df_flat = df_flat.drop('text', 'clean_text', 'words', 'filtered')\n",
        "df_flat.show()"
      ],
      "metadata": {
        "id": "87GgDo94tg9w"
      },
      "execution_count": null,
      "outputs": []
    },
    {
      "cell_type": "code",
      "source": [
        "# POS tags\n",
        "pos_tags = ['noun', 'verb', 'adj', 'adv', 'pron']\n",
        "for tag in pos_tags:\n",
        "    df_flat = df_flat.withColumn(f'pos_{tag}', col(\"pos_distribution\").getItem(f'pos_{tag}'))\n",
        "\n",
        "# Common punctuations\n",
        "punct_marks = ['.', ',', '?', '!', '\"', \"'\"]\n",
        "for mark in punct_marks:\n",
        "    col_name = f'punct_{mark}' if mark.isalnum() else f'punct_{mark.replace(\".\", \"dot\")}'\n",
        "    df_flat = df_flat.withColumn(col_name, col(\"punctuation_usage\").getItem(mark))\n",
        "\n",
        "# Now drop the maps\n",
        "df_flat = df_flat.drop(\"pos_distribution\", \"punctuation_usage\")\n"
      ],
      "metadata": {
        "id": "huC0CJrPtoeB"
      },
      "execution_count": null,
      "outputs": []
    },
    {
      "cell_type": "code",
      "source": [
        "df_flat = df_flat.drop( 'punct_.', 'punct_,', 'punct_?', 'punct_!', 'punct_\"', \"punct_'\")\n",
        "\n",
        "df_flat.show()"
      ],
      "metadata": {
        "id": "OT9vY7vituIe"
      },
      "execution_count": null,
      "outputs": []
    },
    {
      "cell_type": "code",
      "source": [
        "output_dir = \"/home/datasciencef24-yc/Downloads/df_flat_csv\"\n",
        "\n",
        "df_flat.write \\\n",
        "    .mode(\"overwrite\") \\\n",
        "    .option(\"header\", True) \\\n",
        "    .csv(output_dir)\n",
        "\n",
        "print(f\"DataFrame saved as partitioned CSV files in: {output_dir}\")\n"
      ],
      "metadata": {
        "id": "Z6o4el_Ytvfv"
      },
      "execution_count": null,
      "outputs": []
    },
    {
      "cell_type": "code",
      "source": [
        "spark.stop()"
      ],
      "metadata": {
        "id": "_VlJx7WJt0Bc"
      },
      "execution_count": null,
      "outputs": []
    },
    {
      "cell_type": "markdown",
      "source": [
        "Shifting to pandas to combine the file"
      ],
      "metadata": {
        "id": "NKHpk-R2uBZS"
      }
    },
    {
      "cell_type": "code",
      "source": [
        "# Define the directory\n",
        "csv_dir = \"/home/datasciencef24-yc/Downloads/df_flat_csv/\"\n",
        "\n",
        "# List all CSV files in the directory\n",
        "csv_files = [f for f in os.listdir(csv_dir) if f.endswith('.csv')]\n",
        "\n",
        "# Read and concatenate\n",
        "df_list = [pd.read_csv(os.path.join(csv_dir, file)) for file in csv_files]\n",
        "df_combined = pd.concat(df_list, ignore_index=True)\n",
        "\n",
        "# Preview\n",
        "print(f\"Total files read: {len(csv_files)}\")\n",
        "print(f\"Combined shape: {df_combined.shape}\")\n",
        "df_combined.head()\n"
      ],
      "metadata": {
        "id": "zo6nYv2_t5z4"
      },
      "execution_count": null,
      "outputs": []
    },
    {
      "cell_type": "code",
      "source": [
        "df_combined.drop('punct_dot', axis=1, inplace=True)"
      ],
      "metadata": {
        "id": "xHYcp0DUt9E-"
      },
      "execution_count": null,
      "outputs": []
    },
    {
      "cell_type": "code",
      "source": [
        "output_path = \"/home/datasciencef24-yc/Downloads/df_combined_clean.csv\"\n",
        "df_combined.to_csv(output_path, index=False)\n",
        "\n",
        "print(f\"✅ DataFrame saved to: {output_path}\")"
      ],
      "metadata": {
        "id": "41klfTVwt-mM"
      },
      "execution_count": null,
      "outputs": []
    },
    {
      "cell_type": "markdown",
      "source": [
        "##Handling Class Imbalance"
      ],
      "metadata": {
        "id": "vTHKIZChuGle"
      }
    },
    {
      "cell_type": "code",
      "source": [
        "file_path = \"/content/drive/MyDrive/Big Data Project/df_combined_clean.csv\"\n",
        "df = pd.read_csv(file_path)\n"
      ],
      "metadata": {
        "id": "2JFChlrmypoI"
      },
      "execution_count": null,
      "outputs": []
    },
    {
      "cell_type": "code",
      "source": [
        "# 1. Choose user X\n",
        "user_X = \"SallytheShizzle\"\n",
        "\n",
        "# 2. Label the data\n",
        "df[\"label\"] = df[\"user\"].apply(lambda u: 1 if u == user_X else 0)"
      ],
      "metadata": {
        "id": "1v6o3GqFzu-L"
      },
      "execution_count": null,
      "outputs": []
    },
    {
      "cell_type": "code",
      "source": [
        "df[\"label\"].value_counts()"
      ],
      "metadata": {
        "colab": {
          "base_uri": "https://localhost:8080/",
          "height": 178
        },
        "id": "DkHoOtWnz5DH",
        "outputId": "0d7848eb-0f17-4bba-c870-7f13fbb6bca3"
      },
      "execution_count": null,
      "outputs": [
        {
          "output_type": "execute_result",
          "data": {
            "text/plain": [
              "label\n",
              "0    567539\n",
              "1       281\n",
              "Name: count, dtype: int64"
            ],
            "text/html": [
              "<div>\n",
              "<style scoped>\n",
              "    .dataframe tbody tr th:only-of-type {\n",
              "        vertical-align: middle;\n",
              "    }\n",
              "\n",
              "    .dataframe tbody tr th {\n",
              "        vertical-align: top;\n",
              "    }\n",
              "\n",
              "    .dataframe thead th {\n",
              "        text-align: right;\n",
              "    }\n",
              "</style>\n",
              "<table border=\"1\" class=\"dataframe\">\n",
              "  <thead>\n",
              "    <tr style=\"text-align: right;\">\n",
              "      <th></th>\n",
              "      <th>count</th>\n",
              "    </tr>\n",
              "    <tr>\n",
              "      <th>label</th>\n",
              "      <th></th>\n",
              "    </tr>\n",
              "  </thead>\n",
              "  <tbody>\n",
              "    <tr>\n",
              "      <th>0</th>\n",
              "      <td>567539</td>\n",
              "    </tr>\n",
              "    <tr>\n",
              "      <th>1</th>\n",
              "      <td>281</td>\n",
              "    </tr>\n",
              "  </tbody>\n",
              "</table>\n",
              "</div><br><label><b>dtype:</b> int64</label>"
            ]
          },
          "metadata": {},
          "execution_count": 6
        }
      ]
    },
    {
      "cell_type": "markdown",
      "source": [
        "Extracting the Unseen data and excluding it"
      ],
      "metadata": {
        "id": "vdgVsCaXuTQ2"
      }
    },
    {
      "cell_type": "code",
      "source": [
        "# 3. Sample 10 positive + 10 negative for unseen set\n",
        "pos_sample = df[df[\"label\"] == 1].sample(n=10, random_state=42)\n",
        "neg_sample = df[df[\"label\"] == 0].sample(n=20, random_state=42)\n",
        "\n",
        "unseen_df = pd.concat([pos_sample, neg_sample], ignore_index=True)\n",
        "\n",
        "output_path = \"/content/drive/MyDrive/Big Data Project/df_unseen.csv\"\n",
        "unseen_df.to_csv(output_path, index=False)\n",
        "\n",
        "print(f\"✅ DataFrame saved to: {output_path}\")\n",
        "\n",
        "\n",
        "# 4. Remove unseen rows from main df (by index to avoid collision)\n",
        "df_filtered = df.drop(unseen_df.index)"
      ],
      "metadata": {
        "colab": {
          "base_uri": "https://localhost:8080/"
        },
        "id": "mDam-3qe0dsd",
        "outputId": "7723858a-c01d-47e2-e942-ba2a004a89e0"
      },
      "execution_count": null,
      "outputs": [
        {
          "output_type": "stream",
          "name": "stdout",
          "text": [
            "✅ DataFrame saved to: /content/drive/MyDrive/Big Data Project/df_unseen.csv\n"
          ]
        }
      ]
    },
    {
      "cell_type": "code",
      "source": [
        "# Separate features and label\n",
        "X = df.drop(columns=['label'])\n",
        "y = df['label']\n",
        "user_col = df['user']  # save user info\n",
        "\n",
        "# Keep only numeric features for resampling\n",
        "X_numeric = X.select_dtypes(include='number')\n",
        "\n",
        "# Step 1: Undersample class 0 to 250,000\n",
        "undersample = RandomUnderSampler(sampling_strategy={0: 250000, 1: y.sum()}, random_state=42)\n",
        "X_under, y_under = undersample.fit_resample(X_numeric, y)\n",
        "\n",
        "# Get user column after undersampling\n",
        "user_under = user_col.iloc[undersample.sample_indices_].reset_index(drop=True)\n",
        "\n",
        "# Step 2: SMOTE class 1 to 250,000\n",
        "smote = SMOTE(sampling_strategy={1: 250000}, random_state=42)\n",
        "X_balanced, y_balanced = smote.fit_resample(X_under, y_under)\n",
        "\n",
        "# Fix the user column after SMOTE\n",
        "# First get class 0 and class 1 user segments from undersampled data\n",
        "user_under = user_under.reset_index(drop=True)\n",
        "y_under = pd.Series(y_under).reset_index(drop=True)\n",
        "\n",
        "user_0 = user_under[y_under == 0].reset_index(drop=True)\n",
        "user_1 = user_under[y_under == 1].reset_index(drop=True)\n",
        "\n",
        "# Expand user_1 to match SMOTE upsampling\n",
        "user_1_balanced = pd.Series(\n",
        "    np.repeat(user_1.values, 250000 // len(user_1))\n",
        ").reset_index(drop=True)\n",
        "\n",
        "# Combine user columns\n",
        "user_balanced = pd.concat([user_0, user_1_balanced], ignore_index=True)\n",
        "\n",
        "# Create final balanced DataFrame\n",
        "df_balanced = pd.DataFrame(X_balanced)\n",
        "df_balanced['user'] = user_balanced\n",
        "df_balanced['label'] = y_balanced\n",
        "\n",
        "# Confirm balance\n",
        "print(\"Balanced label counts:\")\n",
        "print(df_balanced['label'].value_counts())\n"
      ],
      "metadata": {
        "colab": {
          "base_uri": "https://localhost:8080/"
        },
        "id": "j3Jgq1Oo13g0",
        "outputId": "867df74c-1453-4d52-a6cf-72ef0c6ccc71"
      },
      "execution_count": null,
      "outputs": [
        {
          "output_type": "stream",
          "name": "stdout",
          "text": [
            "Balanced label counts:\n",
            "label\n",
            "0    250000\n",
            "1    250000\n",
            "Name: count, dtype: int64\n"
          ]
        },
        {
          "output_type": "stream",
          "name": "stderr",
          "text": [
            "<ipython-input-6-22859ea5b658>:44: PerformanceWarning: DataFrame is highly fragmented.  This is usually the result of calling `frame.insert` many times, which has poor performance.  Consider joining all columns at once using pd.concat(axis=1) instead. To get a de-fragmented frame, use `newframe = frame.copy()`\n",
            "  df_balanced['user'] = user_balanced\n",
            "<ipython-input-6-22859ea5b658>:45: PerformanceWarning: DataFrame is highly fragmented.  This is usually the result of calling `frame.insert` many times, which has poor performance.  Consider joining all columns at once using pd.concat(axis=1) instead. To get a de-fragmented frame, use `newframe = frame.copy()`\n",
            "  df_balanced['label'] = y_balanced\n"
          ]
        }
      ]
    },
    {
      "cell_type": "code",
      "source": [
        "df_balanced.to_csv(\"/content/drive/MyDrive/Big Data Project/df_balanced.csv\", index=False)"
      ],
      "metadata": {
        "id": "8_0UPDx08Ll6"
      },
      "execution_count": null,
      "outputs": []
    },
    {
      "cell_type": "markdown",
      "source": [
        "##H2O"
      ],
      "metadata": {
        "id": "gmbF9zDxec8l"
      }
    },
    {
      "cell_type": "code",
      "source": [
        "h2o.init()"
      ],
      "metadata": {
        "colab": {
          "base_uri": "https://localhost:8080/",
          "height": 387
        },
        "id": "FerMaKkdhQsV",
        "outputId": "391af9c6-4d00-40f4-e768-2f3d8caa014b"
      },
      "execution_count": null,
      "outputs": [
        {
          "output_type": "stream",
          "name": "stdout",
          "text": [
            "Checking whether there is an H2O instance running at http://localhost:54321. connected.\n"
          ]
        },
        {
          "output_type": "display_data",
          "data": {
            "text/plain": [
              "--------------------------  -----------------------------------------------------------------------------------------\n",
              "H2O_cluster_uptime:         2 hours 32 mins\n",
              "H2O_cluster_timezone:       Etc/UTC\n",
              "H2O_data_parsing_timezone:  UTC\n",
              "H2O_cluster_version:        3.46.0.7\n",
              "H2O_cluster_version_age:    21 days, 23 hours and 29 minutes\n",
              "H2O_cluster_name:           H2O_from_python_unknownUser_8d9m5i\n",
              "H2O_cluster_total_nodes:    1\n",
              "H2O_cluster_free_memory:    2.765 Gb\n",
              "H2O_cluster_total_cores:    2\n",
              "H2O_cluster_allowed_cores:  2\n",
              "H2O_cluster_status:         locked, healthy\n",
              "H2O_connection_url:         http://localhost:54321\n",
              "H2O_connection_proxy:       {\"http\": null, \"https\": null, \"colab_language_server\": \"/usr/colab/bin/language_service\"}\n",
              "H2O_internal_security:      False\n",
              "Python_version:             3.11.12 final\n",
              "--------------------------  -----------------------------------------------------------------------------------------"
            ],
            "text/html": [
              "\n",
              "<style>\n",
              "\n",
              "#h2o-table-14.h2o-container {\n",
              "  overflow-x: auto;\n",
              "}\n",
              "#h2o-table-14 .h2o-table {\n",
              "  /* width: 100%; */\n",
              "  margin-top: 1em;\n",
              "  margin-bottom: 1em;\n",
              "}\n",
              "#h2o-table-14 .h2o-table caption {\n",
              "  white-space: nowrap;\n",
              "  caption-side: top;\n",
              "  text-align: left;\n",
              "  /* margin-left: 1em; */\n",
              "  margin: 0;\n",
              "  font-size: larger;\n",
              "}\n",
              "#h2o-table-14 .h2o-table thead {\n",
              "  white-space: nowrap; \n",
              "  position: sticky;\n",
              "  top: 0;\n",
              "  box-shadow: 0 -1px inset;\n",
              "}\n",
              "#h2o-table-14 .h2o-table tbody {\n",
              "  overflow: auto;\n",
              "}\n",
              "#h2o-table-14 .h2o-table th,\n",
              "#h2o-table-14 .h2o-table td {\n",
              "  text-align: right;\n",
              "  /* border: 1px solid; */\n",
              "}\n",
              "#h2o-table-14 .h2o-table tr:nth-child(even) {\n",
              "  /* background: #F5F5F5 */\n",
              "}\n",
              "\n",
              "</style>      \n",
              "<div id=\"h2o-table-14\" class=\"h2o-container\">\n",
              "  <table class=\"h2o-table\">\n",
              "    <caption></caption>\n",
              "    <thead></thead>\n",
              "    <tbody><tr><td>H2O_cluster_uptime:</td>\n",
              "<td>2 hours 32 mins</td></tr>\n",
              "<tr><td>H2O_cluster_timezone:</td>\n",
              "<td>Etc/UTC</td></tr>\n",
              "<tr><td>H2O_data_parsing_timezone:</td>\n",
              "<td>UTC</td></tr>\n",
              "<tr><td>H2O_cluster_version:</td>\n",
              "<td>3.46.0.7</td></tr>\n",
              "<tr><td>H2O_cluster_version_age:</td>\n",
              "<td>21 days, 23 hours and 29 minutes</td></tr>\n",
              "<tr><td>H2O_cluster_name:</td>\n",
              "<td>H2O_from_python_unknownUser_8d9m5i</td></tr>\n",
              "<tr><td>H2O_cluster_total_nodes:</td>\n",
              "<td>1</td></tr>\n",
              "<tr><td>H2O_cluster_free_memory:</td>\n",
              "<td>2.765 Gb</td></tr>\n",
              "<tr><td>H2O_cluster_total_cores:</td>\n",
              "<td>2</td></tr>\n",
              "<tr><td>H2O_cluster_allowed_cores:</td>\n",
              "<td>2</td></tr>\n",
              "<tr><td>H2O_cluster_status:</td>\n",
              "<td>locked, healthy</td></tr>\n",
              "<tr><td>H2O_connection_url:</td>\n",
              "<td>http://localhost:54321</td></tr>\n",
              "<tr><td>H2O_connection_proxy:</td>\n",
              "<td>{\"http\": null, \"https\": null, \"colab_language_server\": \"/usr/colab/bin/language_service\"}</td></tr>\n",
              "<tr><td>H2O_internal_security:</td>\n",
              "<td>False</td></tr>\n",
              "<tr><td>Python_version:</td>\n",
              "<td>3.11.12 final</td></tr></tbody>\n",
              "  </table>\n",
              "</div>\n"
            ]
          },
          "metadata": {}
        }
      ]
    },
    {
      "cell_type": "markdown",
      "source": [
        "###Loading the Data"
      ],
      "metadata": {
        "id": "13D6v_1pfexS"
      }
    },
    {
      "cell_type": "code",
      "source": [
        "# ✅ Load and split data\n",
        "def load_data_to_h2o(path):\n",
        "    hf = h2o.import_file(path)\n",
        "    hf['label'] = hf['label'].asfactor()\n",
        "    features = [col for col in hf.columns if col not in ['label', 'user']]\n",
        "    target = 'label'\n",
        "    train, test = hf.split_frame(ratios=[0.8], seed=42)\n",
        "    return hf, train, test, features, target"
      ],
      "metadata": {
        "id": "2hL1iVpj7ib3"
      },
      "execution_count": null,
      "outputs": []
    },
    {
      "cell_type": "code",
      "source": [
        "hf, train, test, features, target = load_data_to_h2o(\"/content/drive/MyDrive/Big Data Project/df_balanced.csv\")"
      ],
      "metadata": {
        "colab": {
          "base_uri": "https://localhost:8080/"
        },
        "id": "lS-y6LsJgqXG",
        "outputId": "43819f7f-9c49-4079-9ced-f8aed578e42c"
      },
      "execution_count": null,
      "outputs": [
        {
          "output_type": "stream",
          "name": "stdout",
          "text": [
            "Parse progress: |████████████████████████████████████████████████████████████████| (done) 100%\n"
          ]
        }
      ]
    },
    {
      "cell_type": "markdown",
      "source": [
        "### Modelling"
      ],
      "metadata": {
        "id": "HQEUmceCfg9u"
      }
    },
    {
      "cell_type": "code",
      "source": [
        "def train_logistic_regression(train, features, target):\n",
        "    from h2o.estimators.glm import H2OGeneralizedLinearEstimator\n",
        "    model = H2OGeneralizedLinearEstimator(family='binomial', lambda_=0, standardize=True, solver='IRLSM', seed=42)\n",
        "    model.train(x=features, y=target, training_frame=train)\n",
        "    return model"
      ],
      "metadata": {
        "id": "LKGJHk4GekBr"
      },
      "execution_count": null,
      "outputs": []
    },
    {
      "cell_type": "code",
      "source": [
        "def train_svm_like(train, features, target):\n",
        "    from h2o.estimators.deeplearning import H2ODeepLearningEstimator\n",
        "    model = H2ODeepLearningEstimator(hidden=[1], activation='Tanh', epochs=20,\n",
        "                                     train_samples_per_iteration=-1, reproducible=True, seed=42)\n",
        "    model.train(x=features, y=target, training_frame=train)\n",
        "    return model\n"
      ],
      "metadata": {
        "id": "8BbVgFYReleL"
      },
      "execution_count": null,
      "outputs": []
    },
    {
      "cell_type": "code",
      "source": [
        "def train_xgboost(train, features, target):\n",
        "    from h2o.estimators import H2OXGBoostEstimator\n",
        "\n",
        "    xgb = H2OXGBoostEstimator(\n",
        "        ntrees=200,\n",
        "        max_depth=5,\n",
        "        learn_rate=0.05,\n",
        "        subsample=0.8,\n",
        "        col_sample_rate=0.8,\n",
        "        seed=42\n",
        "    )\n",
        "    xgb.train(x=features, y=target, training_frame=train)\n",
        "    return xgb\n"
      ],
      "metadata": {
        "id": "wXKWkCKzUOZ-"
      },
      "execution_count": null,
      "outputs": []
    },
    {
      "cell_type": "code",
      "source": [
        "def train_random_forest(train, features, target):\n",
        "    from h2o.estimators import H2ORandomForestEstimator\n",
        "\n",
        "    rf = H2ORandomForestEstimator(\n",
        "        ntrees=100,\n",
        "        max_depth=10,\n",
        "        sample_rate=0.8,\n",
        "        col_sample_rate_per_tree=0.8,\n",
        "        seed=42\n",
        "    )\n",
        "    rf.train(x=features, y=target, training_frame=train)\n",
        "    return rf\n"
      ],
      "metadata": {
        "id": "KRtQxsike0F6"
      },
      "execution_count": null,
      "outputs": []
    },
    {
      "cell_type": "code",
      "source": [
        "# 2. Train models\n",
        "log_reg = train_logistic_regression(train, features, target)"
      ],
      "metadata": {
        "colab": {
          "base_uri": "https://localhost:8080/"
        },
        "id": "nJSxLAuvhDsU",
        "outputId": "d824d350-0719-4089-bcef-146a9e3673e0"
      },
      "execution_count": null,
      "outputs": [
        {
          "output_type": "stream",
          "name": "stdout",
          "text": [
            "glm Model Build progress: |██████████████████████████████████████████████████████| (done) 100%\n"
          ]
        }
      ]
    },
    {
      "cell_type": "code",
      "source": [
        "svm_like = train_svm_like(train, features, target)"
      ],
      "metadata": {
        "colab": {
          "base_uri": "https://localhost:8080/"
        },
        "id": "6BYk2UE5hjGX",
        "outputId": "0bb3f755-e582-4189-9432-dea28dd0a89d"
      },
      "execution_count": null,
      "outputs": [
        {
          "output_type": "stream",
          "name": "stdout",
          "text": [
            "deeplearning Model Build progress: |█████████████████████████████████████████████| (done) 100%\n"
          ]
        }
      ]
    },
    {
      "cell_type": "code",
      "source": [
        "xgb = train_xgboost(train, features, target)"
      ],
      "metadata": {
        "colab": {
          "base_uri": "https://localhost:8080/"
        },
        "id": "nvt0VHgfhkdY",
        "outputId": "a2c3514a-5120-44ea-bace-d3d4ec75cf9c"
      },
      "execution_count": null,
      "outputs": [
        {
          "output_type": "stream",
          "name": "stdout",
          "text": [
            "xgboost Model Build progress: |"
          ]
        },
        {
          "output_type": "stream",
          "name": "stderr",
          "text": [
            "/usr/local/lib/python3.11/dist-packages/h2o/estimators/estimator_base.py:192: RuntimeWarning: Using user-provided parameter subsample instead of sample_rate.\"\n",
            "  warnings.warn(mesg[\"message\"], RuntimeWarning)\n"
          ]
        },
        {
          "output_type": "stream",
          "name": "stdout",
          "text": [
            "██████████████████████████████████████████████████| (done) 100%\n"
          ]
        }
      ]
    },
    {
      "cell_type": "code",
      "source": [
        "rf = train_random_forest(train, features, target)"
      ],
      "metadata": {
        "colab": {
          "base_uri": "https://localhost:8080/"
        },
        "id": "imee7h-Thlqa",
        "outputId": "fbd01428-81a2-40ff-d2ad-eea4d41b5697"
      },
      "execution_count": null,
      "outputs": [
        {
          "output_type": "stream",
          "name": "stdout",
          "text": [
            "drf Model Build progress: |██████████████████████████████████████████████████████| (done) 100%\n"
          ]
        }
      ]
    },
    {
      "cell_type": "markdown",
      "source": [
        "### Evaluating Models"
      ],
      "metadata": {
        "id": "k8r63kM3fjPf"
      }
    },
    {
      "cell_type": "code",
      "source": [
        "def evaluate_model(model, test_frame, model_name=\"Model\"):\n",
        "    print(f\"\\n\\n===== {model_name} Evaluation =====\")\n",
        "    predictions = model.predict(test_frame).as_data_frame()['predict'].astype(int)\n",
        "    true_labels = test_frame['label'].as_data_frame()['label'].astype(int)\n",
        "\n",
        "    cm = confusion_matrix(true_labels, predictions)\n",
        "    cr = classification_report(true_labels, predictions, digits=2)\n",
        "\n",
        "    # Print classification report\n",
        "    print(\"\\nClassification Report:\\n\", cr)\n",
        "\n",
        "    # Plot confusion matrix\n",
        "    plt.figure(figsize=(6, 4))\n",
        "    sns.heatmap(cm, annot=True, fmt='d', cmap='Blues')\n",
        "    plt.title(f'{model_name} - Confusion Matrix')\n",
        "    plt.xlabel('Predicted')\n",
        "    plt.ylabel('Actual')\n",
        "    plt.show()"
      ],
      "metadata": {
        "id": "BekWabcgU9hG"
      },
      "execution_count": null,
      "outputs": []
    },
    {
      "cell_type": "code",
      "source": [
        "# 3. Evaluate on test set\n",
        "evaluate_model(log_reg, test, \"Logistic Regression\")"
      ],
      "metadata": {
        "colab": {
          "base_uri": "https://localhost:8080/",
          "height": 805
        },
        "id": "fwfaA6akhG4R",
        "outputId": "b942be5f-b816-42f6-983a-cfd0aaa6c7fa"
      },
      "execution_count": null,
      "outputs": [
        {
          "output_type": "stream",
          "name": "stdout",
          "text": [
            "\n",
            "\n",
            "===== Logistic Regression Evaluation =====\n",
            "glm prediction progress: |███████████████████████████████████████████████████████| (done) 100%\n"
          ]
        },
        {
          "output_type": "stream",
          "name": "stderr",
          "text": [
            "/usr/local/lib/python3.11/dist-packages/h2o/frame.py:1983: H2ODependencyWarning: Converting H2O frame to pandas dataframe using single-thread.  For faster conversion using multi-thread, install polars and pyarrow and use it as pandas_df = h2o_df.as_data_frame(use_multi_thread=True)\n",
            "\n",
            "  warnings.warn(\"Converting H2O frame to pandas dataframe using single-thread.  For faster conversion using\"\n",
            "/usr/local/lib/python3.11/dist-packages/h2o/frame.py:1983: H2ODependencyWarning: Converting H2O frame to pandas dataframe using single-thread.  For faster conversion using multi-thread, install polars and pyarrow and use it as pandas_df = h2o_df.as_data_frame(use_multi_thread=True)\n",
            "\n",
            "  warnings.warn(\"Converting H2O frame to pandas dataframe using single-thread.  For faster conversion using\"\n"
          ]
        },
        {
          "output_type": "stream",
          "name": "stdout",
          "text": [
            "\n",
            "Classification Report:\n",
            "               precision    recall  f1-score   support\n",
            "\n",
            "           0       0.97      0.90      0.93     49866\n",
            "           1       0.90      0.97      0.94     49898\n",
            "\n",
            "    accuracy                           0.93     99764\n",
            "   macro avg       0.94      0.93      0.93     99764\n",
            "weighted avg       0.94      0.93      0.93     99764\n",
            "\n"
          ]
        },
        {
          "output_type": "display_data",
          "data": {
            "text/plain": [
              "<Figure size 600x400 with 2 Axes>"
            ],
            "image/png": "[encoded data removed]"
          },
          "metadata": {}
        }
      ]
    },
    {
      "cell_type": "code",
      "source": [
        "evaluate_model(svm_like, test, \"SVM-like\")"
      ],
      "metadata": {
        "colab": {
          "base_uri": "https://localhost:8080/",
          "height": 805
        },
        "id": "xis5YaNFhoBk",
        "outputId": "861393c2-9f84-4721-c99e-706919fd606e"
      },
      "execution_count": null,
      "outputs": [
        {
          "output_type": "stream",
          "name": "stdout",
          "text": [
            "\n",
            "\n",
            "===== SVM-like Evaluation =====\n",
            "deeplearning prediction progress: |██████████████████████████████████████████████| (done) 100%\n"
          ]
        },
        {
          "output_type": "stream",
          "name": "stderr",
          "text": [
            "/usr/local/lib/python3.11/dist-packages/h2o/frame.py:1983: H2ODependencyWarning: Converting H2O frame to pandas dataframe using single-thread.  For faster conversion using multi-thread, install polars and pyarrow and use it as pandas_df = h2o_df.as_data_frame(use_multi_thread=True)\n",
            "\n",
            "  warnings.warn(\"Converting H2O frame to pandas dataframe using single-thread.  For faster conversion using\"\n",
            "/usr/local/lib/python3.11/dist-packages/h2o/frame.py:1983: H2ODependencyWarning: Converting H2O frame to pandas dataframe using single-thread.  For faster conversion using multi-thread, install polars and pyarrow and use it as pandas_df = h2o_df.as_data_frame(use_multi_thread=True)\n",
            "\n",
            "  warnings.warn(\"Converting H2O frame to pandas dataframe using single-thread.  For faster conversion using\"\n"
          ]
        },
        {
          "output_type": "stream",
          "name": "stdout",
          "text": [
            "\n",
            "Classification Report:\n",
            "               precision    recall  f1-score   support\n",
            "\n",
            "           0       0.97      0.85      0.91     49866\n",
            "           1       0.87      0.97      0.92     49898\n",
            "\n",
            "    accuracy                           0.91     99764\n",
            "   macro avg       0.92      0.91      0.91     99764\n",
            "weighted avg       0.92      0.91      0.91     99764\n",
            "\n"
          ]
        },
        {
          "output_type": "display_data",
          "data": {
            "text/plain": [
              "<Figure size 600x400 with 2 Axes>"
            ],
            "image/png": "[encoded data removed]"
          },
          "metadata": {}
        }
      ]
    },
    {
      "cell_type": "code",
      "source": [
        "evaluate_model(xgb, test, \"XGBoost\")"
      ],
      "metadata": {
        "colab": {
          "base_uri": "https://localhost:8080/",
          "height": 805
        },
        "id": "pxIRsVVehpIs",
        "outputId": "6a266195-c381-47fc-f547-2dd4d1cec8b1"
      },
      "execution_count": null,
      "outputs": [
        {
          "output_type": "stream",
          "name": "stdout",
          "text": [
            "\n",
            "\n",
            "===== XGBoost Evaluation =====\n",
            "xgboost prediction progress: |███████████████████████████████████████████████████| (done) 100%\n"
          ]
        },
        {
          "output_type": "stream",
          "name": "stderr",
          "text": [
            "/usr/local/lib/python3.11/dist-packages/h2o/frame.py:1983: H2ODependencyWarning: Converting H2O frame to pandas dataframe using single-thread.  For faster conversion using multi-thread, install polars and pyarrow and use it as pandas_df = h2o_df.as_data_frame(use_multi_thread=True)\n",
            "\n",
            "  warnings.warn(\"Converting H2O frame to pandas dataframe using single-thread.  For faster conversion using\"\n",
            "/usr/local/lib/python3.11/dist-packages/h2o/frame.py:1983: H2ODependencyWarning: Converting H2O frame to pandas dataframe using single-thread.  For faster conversion using multi-thread, install polars and pyarrow and use it as pandas_df = h2o_df.as_data_frame(use_multi_thread=True)\n",
            "\n",
            "  warnings.warn(\"Converting H2O frame to pandas dataframe using single-thread.  For faster conversion using\"\n"
          ]
        },
        {
          "output_type": "stream",
          "name": "stdout",
          "text": [
            "\n",
            "Classification Report:\n",
            "               precision    recall  f1-score   support\n",
            "\n",
            "           0       1.00      1.00      1.00     49866\n",
            "           1       1.00      1.00      1.00     49898\n",
            "\n",
            "    accuracy                           1.00     99764\n",
            "   macro avg       1.00      1.00      1.00     99764\n",
            "weighted avg       1.00      1.00      1.00     99764\n",
            "\n"
          ]
        },
        {
          "output_type": "display_data",
          "data": {
            "text/plain": [
              "<Figure size 600x400 with 2 Axes>"
            ],
            "image/png": "[encoded data removed]"
          },
          "metadata": {}
        }
      ]
    },
    {
      "cell_type": "code",
      "source": [
        "evaluate_model(rf, test, \"Random Forest\")"
      ],
      "metadata": {
        "colab": {
          "base_uri": "https://localhost:8080/",
          "height": 805
        },
        "id": "DO5_e5q2hqRu",
        "outputId": "2bd3897a-394c-4762-a9b9-c8ea4432c713"
      },
      "execution_count": null,
      "outputs": [
        {
          "output_type": "stream",
          "name": "stdout",
          "text": [
            "\n",
            "\n",
            "===== Random Forest Evaluation =====\n",
            "drf prediction progress: |███████████████████████████████████████████████████████| (done) 100%\n"
          ]
        },
        {
          "output_type": "stream",
          "name": "stderr",
          "text": [
            "/usr/local/lib/python3.11/dist-packages/h2o/frame.py:1983: H2ODependencyWarning: Converting H2O frame to pandas dataframe using single-thread.  For faster conversion using multi-thread, install polars and pyarrow and use it as pandas_df = h2o_df.as_data_frame(use_multi_thread=True)\n",
            "\n",
            "  warnings.warn(\"Converting H2O frame to pandas dataframe using single-thread.  For faster conversion using\"\n",
            "/usr/local/lib/python3.11/dist-packages/h2o/frame.py:1983: H2ODependencyWarning: Converting H2O frame to pandas dataframe using single-thread.  For faster conversion using multi-thread, install polars and pyarrow and use it as pandas_df = h2o_df.as_data_frame(use_multi_thread=True)\n",
            "\n",
            "  warnings.warn(\"Converting H2O frame to pandas dataframe using single-thread.  For faster conversion using\"\n"
          ]
        },
        {
          "output_type": "stream",
          "name": "stdout",
          "text": [
            "\n",
            "Classification Report:\n",
            "               precision    recall  f1-score   support\n",
            "\n",
            "           0       0.97      0.98      0.98     49866\n",
            "           1       0.98      0.97      0.97     49898\n",
            "\n",
            "    accuracy                           0.98     99764\n",
            "   macro avg       0.98      0.98      0.98     99764\n",
            "weighted avg       0.98      0.98      0.98     99764\n",
            "\n"
          ]
        },
        {
          "output_type": "display_data",
          "data": {
            "text/plain": [
              "<Figure size 600x400 with 2 Axes>"
            ],
            "image/png": "[encoded data removed]"
          },
          "metadata": {}
        }
      ]
    },
    {
      "cell_type": "markdown",
      "source": [
        "### Unseen Data"
      ],
      "metadata": {
        "id": "foS78o4VfroZ"
      }
    },
    {
      "cell_type": "code",
      "source": [
        "def evaluate_on_unseen(model, model_name=\"Model\", unseen_path=\"/content/drive/MyDrive/Big Data Project/df_unseen.csv\"):\n",
        "    hf_unseen = h2o.import_file(unseen_path)\n",
        "    if 'label' in hf_unseen.columns:\n",
        "        hf_unseen['label'] = hf_unseen['label'].asfactor()\n",
        "\n",
        "    evaluate_model(model, hf_unseen, model_name)"
      ],
      "metadata": {
        "id": "yf0WCp8jfyuC"
      },
      "execution_count": null,
      "outputs": []
    },
    {
      "cell_type": "code",
      "source": [
        "# 4. Evaluate on unseen\n",
        "evaluate_on_unseen(log_reg, \"Logistic Regression\")"
      ],
      "metadata": {
        "colab": {
          "base_uri": "https://localhost:8080/",
          "height": 823
        },
        "id": "aVqLsqxzg8SO",
        "outputId": "13c03320-1372-41b1-ed32-aba19b2c538c"
      },
      "execution_count": null,
      "outputs": [
        {
          "output_type": "stream",
          "name": "stdout",
          "text": [
            "Parse progress: |████████████████████████████████████████████████████████████████| (done) 100%\n",
            "\n",
            "\n",
            "===== Logistic Regression Evaluation =====\n",
            "glm prediction progress: |███████████████████████████████████████████████████████| (done) 100%\n",
            "\n",
            "Classification Report:\n",
            "               precision    recall  f1-score   support\n",
            "\n",
            "           0       0.95      0.95      0.95        20\n",
            "           1       0.90      0.90      0.90        10\n",
            "\n",
            "    accuracy                           0.93        30\n",
            "   macro avg       0.93      0.93      0.93        30\n",
            "weighted avg       0.93      0.93      0.93        30\n",
            "\n"
          ]
        },
        {
          "output_type": "stream",
          "name": "stderr",
          "text": [
            "/usr/local/lib/python3.11/dist-packages/h2o/frame.py:1983: H2ODependencyWarning: Converting H2O frame to pandas dataframe using single-thread.  For faster conversion using multi-thread, install polars and pyarrow and use it as pandas_df = h2o_df.as_data_frame(use_multi_thread=True)\n",
            "\n",
            "  warnings.warn(\"Converting H2O frame to pandas dataframe using single-thread.  For faster conversion using\"\n",
            "/usr/local/lib/python3.11/dist-packages/h2o/frame.py:1983: H2ODependencyWarning: Converting H2O frame to pandas dataframe using single-thread.  For faster conversion using multi-thread, install polars and pyarrow and use it as pandas_df = h2o_df.as_data_frame(use_multi_thread=True)\n",
            "\n",
            "  warnings.warn(\"Converting H2O frame to pandas dataframe using single-thread.  For faster conversion using\"\n"
          ]
        },
        {
          "output_type": "display_data",
          "data": {
            "text/plain": [
              "<Figure size 600x400 with 2 Axes>"
            ],
            "image/png": "[encoded data removed]"
          },
          "metadata": {}
        }
      ]
    },
    {
      "cell_type": "code",
      "source": [
        "evaluate_on_unseen(svm_like, \"SVM-like\")"
      ],
      "metadata": {
        "colab": {
          "base_uri": "https://localhost:8080/",
          "height": 823
        },
        "id": "6cZ29GtLhsGp",
        "outputId": "436dccd9-049b-4231-82a5-d320a3ff2214"
      },
      "execution_count": null,
      "outputs": [
        {
          "output_type": "stream",
          "name": "stdout",
          "text": [
            "Parse progress: |████████████████████████████████████████████████████████████████| (done) 100%\n",
            "\n",
            "\n",
            "===== SVM-like Evaluation =====\n",
            "deeplearning prediction progress: |██████████████████████████████████████████████| (done) 100%\n",
            "\n",
            "Classification Report:\n",
            "               precision    recall  f1-score   support\n",
            "\n",
            "           0       0.90      0.90      0.90        20\n",
            "           1       0.80      0.80      0.80        10\n",
            "\n",
            "    accuracy                           0.87        30\n",
            "   macro avg       0.85      0.85      0.85        30\n",
            "weighted avg       0.87      0.87      0.87        30\n",
            "\n"
          ]
        },
        {
          "output_type": "stream",
          "name": "stderr",
          "text": [
            "/usr/local/lib/python3.11/dist-packages/h2o/frame.py:1983: H2ODependencyWarning: Converting H2O frame to pandas dataframe using single-thread.  For faster conversion using multi-thread, install polars and pyarrow and use it as pandas_df = h2o_df.as_data_frame(use_multi_thread=True)\n",
            "\n",
            "  warnings.warn(\"Converting H2O frame to pandas dataframe using single-thread.  For faster conversion using\"\n",
            "/usr/local/lib/python3.11/dist-packages/h2o/frame.py:1983: H2ODependencyWarning: Converting H2O frame to pandas dataframe using single-thread.  For faster conversion using multi-thread, install polars and pyarrow and use it as pandas_df = h2o_df.as_data_frame(use_multi_thread=True)\n",
            "\n",
            "  warnings.warn(\"Converting H2O frame to pandas dataframe using single-thread.  For faster conversion using\"\n"
          ]
        },
        {
          "output_type": "display_data",
          "data": {
            "text/plain": [
              "<Figure size 600x400 with 2 Axes>"
            ],
            "image/png": "[encoded data removed]"
          },
          "metadata": {}
        }
      ]
    },
    {
      "cell_type": "code",
      "source": [
        "evaluate_on_unseen(xgb, \"XGBoost\")"
      ],
      "metadata": {
        "colab": {
          "base_uri": "https://localhost:8080/",
          "height": 823
        },
        "id": "hQa54ucJhtGa",
        "outputId": "27db5d29-d2fe-41a0-e60f-b9f46b2a25a8"
      },
      "execution_count": null,
      "outputs": [
        {
          "output_type": "stream",
          "name": "stdout",
          "text": [
            "Parse progress: |████████████████████████████████████████████████████████████████| (done) 100%\n",
            "\n",
            "\n",
            "===== XGBoost Evaluation =====\n",
            "xgboost prediction progress: |███████████████████████████████████████████████████| (done) 100%\n",
            "\n",
            "Classification Report:\n",
            "               precision    recall  f1-score   support\n",
            "\n",
            "           0       0.71      1.00      0.83        20\n",
            "           1       1.00      0.20      0.33        10\n",
            "\n",
            "    accuracy                           0.73        30\n",
            "   macro avg       0.86      0.60      0.58        30\n",
            "weighted avg       0.81      0.73      0.67        30\n",
            "\n"
          ]
        },
        {
          "output_type": "stream",
          "name": "stderr",
          "text": [
            "/usr/local/lib/python3.11/dist-packages/h2o/frame.py:1983: H2ODependencyWarning: Converting H2O frame to pandas dataframe using single-thread.  For faster conversion using multi-thread, install polars and pyarrow and use it as pandas_df = h2o_df.as_data_frame(use_multi_thread=True)\n",
            "\n",
            "  warnings.warn(\"Converting H2O frame to pandas dataframe using single-thread.  For faster conversion using\"\n",
            "/usr/local/lib/python3.11/dist-packages/h2o/frame.py:1983: H2ODependencyWarning: Converting H2O frame to pandas dataframe using single-thread.  For faster conversion using multi-thread, install polars and pyarrow and use it as pandas_df = h2o_df.as_data_frame(use_multi_thread=True)\n",
            "\n",
            "  warnings.warn(\"Converting H2O frame to pandas dataframe using single-thread.  For faster conversion using\"\n"
          ]
        },
        {
          "output_type": "display_data",
          "data": {
            "text/plain": [
              "<Figure size 600x400 with 2 Axes>"
            ],
            "image/png": "[encoded data removed]"
          },
          "metadata": {}
        }
      ]
    },
    {
      "cell_type": "code",
      "source": [
        "evaluate_on_unseen(rf, \"Random Forest\")"
      ],
      "metadata": {
        "colab": {
          "base_uri": "https://localhost:8080/",
          "height": 823
        },
        "id": "GfEf5kqKhuYp",
        "outputId": "7971c525-8573-4d4c-ae6b-3b7d6026d7b7"
      },
      "execution_count": null,
      "outputs": [
        {
          "output_type": "stream",
          "name": "stdout",
          "text": [
            "Parse progress: |████████████████████████████████████████████████████████████████| (done) 100%\n",
            "\n",
            "\n",
            "===== Random Forest Evaluation =====\n",
            "drf prediction progress: |███████████████████████████████████████████████████████| (done) 100%\n",
            "\n",
            "Classification Report:\n",
            "               precision    recall  f1-score   support\n",
            "\n",
            "           0       1.00      0.90      0.95        20\n",
            "           1       0.83      1.00      0.91        10\n",
            "\n",
            "    accuracy                           0.93        30\n",
            "   macro avg       0.92      0.95      0.93        30\n",
            "weighted avg       0.94      0.93      0.93        30\n",
            "\n"
          ]
        },
        {
          "output_type": "stream",
          "name": "stderr",
          "text": [
            "/usr/local/lib/python3.11/dist-packages/h2o/frame.py:1983: H2ODependencyWarning: Converting H2O frame to pandas dataframe using single-thread.  For faster conversion using multi-thread, install polars and pyarrow and use it as pandas_df = h2o_df.as_data_frame(use_multi_thread=True)\n",
            "\n",
            "  warnings.warn(\"Converting H2O frame to pandas dataframe using single-thread.  For faster conversion using\"\n",
            "/usr/local/lib/python3.11/dist-packages/h2o/frame.py:1983: H2ODependencyWarning: Converting H2O frame to pandas dataframe using single-thread.  For faster conversion using multi-thread, install polars and pyarrow and use it as pandas_df = h2o_df.as_data_frame(use_multi_thread=True)\n",
            "\n",
            "  warnings.warn(\"Converting H2O frame to pandas dataframe using single-thread.  For faster conversion using\"\n"
          ]
        },
        {
          "output_type": "display_data",
          "data": {
            "text/plain": [
              "<Figure size 600x400 with 2 Axes>"
            ],
            "image/png": "[encoded data removed]"
          },
          "metadata": {}
        }
      ]
    }
  ]
}